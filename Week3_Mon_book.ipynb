{
 "cells": [
  {
   "cell_type": "code",
   "execution_count": 1,
   "metadata": {},
   "outputs": [],
   "source": [
    "import sys\n",
    "import numpy as np\n",
    "import math\n",
    "import pandas as pd\n",
    "import random\n",
    "\n",
    "from scipy import stats\n",
    "\n",
    "%matplotlib inline\n",
    "\n",
    "import matplotlib.pyplot as plt \n",
    "import matplotlib\n",
    "matplotlib.rc('font',family='serif')\n",
    "matplotlib.rc('font',weight='bold')\n",
    "matplotlib.rc('font',size=16)\n",
    "matplotlib.rcParams['axes.labelweight'] = 'bold'\n",
    "\n",
    "from recommender_functions import *\n",
    "from sklearn.metrics import recall_score, precision_score, f1_score, roc_curve, roc_auc_score"
   ]
  },
  {
   "cell_type": "code",
   "execution_count": 2,
   "metadata": {},
   "outputs": [],
   "source": [
    "week = 'Week3'\n",
    "day  = 'Mon'"
   ]
  },
  {
   "cell_type": "code",
   "execution_count": 3,
   "metadata": {
    "scrolled": false
   },
   "outputs": [
    {
     "name": "stderr",
     "output_type": "stream",
     "text": [
      "/anaconda3/lib/python3.6/site-packages/ipykernel_launcher.py:12: SettingWithCopyWarning: \n",
      "A value is trying to be set on a copy of a slice from a DataFrame.\n",
      "Try using .loc[row_indexer,col_indexer] = value instead\n",
      "\n",
      "See the caveats in the documentation: http://pandas.pydata.org/pandas-docs/stable/indexing.html#indexing-view-versus-copy\n",
      "  if sys.path[0] == '':\n",
      "/anaconda3/lib/python3.6/site-packages/ipykernel_launcher.py:13: SettingWithCopyWarning: \n",
      "A value is trying to be set on a copy of a slice from a DataFrame.\n",
      "Try using .loc[row_indexer,col_indexer] = value instead\n",
      "\n",
      "See the caveats in the documentation: http://pandas.pydata.org/pandas-docs/stable/indexing.html#indexing-view-versus-copy\n",
      "  del sys.path[0]\n"
     ]
    }
   ],
   "source": [
    "# Get the ratings by user ID: starts at user index 1 \n",
    "r = pd.read_csv('goodbooks-10k/ratings.csv')\n",
    "df_ratings = pd.DataFrame(r)\n",
    "\n",
    "# Add counts to the df\n",
    "cut_u, cut_b = 175, 1 #175, 1\n",
    "df_ratings['user_counts'] = df_ratings.groupby(['user_id'])['book_id'].transform('count')\n",
    "df_ratings['book_counts'] = df_ratings.groupby(['book_id'])['user_id'].transform('count')\n",
    "df_ratings_cut = df_ratings.query('user_counts > %d '%(cut_u))\n",
    "\n",
    "# Add an index for the user for matrix making later\n",
    "df_ratings_cut['user_idx'] = pd.Categorical(df_ratings_cut['user_id']).codes \n",
    "df_ratings_cut['book_idx'] = pd.Categorical(df_ratings_cut['book_id']).codes \n",
    "\n",
    "# ...but also do a groupby, so can plot easily\n",
    "df_ratings_count_u = df_ratings.groupby(['user_id']).size().reset_index(name='Counts')\n",
    "\n",
    "r = pd.read_csv('goodbooks-10k/books_with_genres.csv')\n",
    "df_books = pd.DataFrame(r)\n",
    "df_ratings_cut.head()\n",
    "\n",
    "r = pd.read_csv('goodbooks-10k/ahack_tags_3.csv')\n",
    "df_tags = pd.DataFrame(r)\n",
    "df_tags['tag_index'] = pd.Categorical(df_tags['tag_id']).codes \n"
   ]
  },
  {
   "cell_type": "code",
   "execution_count": 4,
   "metadata": {},
   "outputs": [
    {
     "name": "stdout",
     "output_type": "stream",
     "text": [
      "7337 537\n"
     ]
    }
   ],
   "source": [
    "# Set number of books and users variables for later use\n",
    "N_BOOKS = len(df_ratings_cut.book_id.unique()) #df_books.shape[0]\n",
    "N_USERS = len(df_ratings_cut.user_id.unique())\n",
    "\n",
    "print(N_BOOKS,N_USERS)# ,df_ratings_count_u_cut.shape[0])"
   ]
  },
  {
   "cell_type": "code",
   "execution_count": 5,
   "metadata": {},
   "outputs": [
    {
     "data": {
      "text/html": [
       "<div>\n",
       "<style scoped>\n",
       "    .dataframe tbody tr th:only-of-type {\n",
       "        vertical-align: middle;\n",
       "    }\n",
       "\n",
       "    .dataframe tbody tr th {\n",
       "        vertical-align: top;\n",
       "    }\n",
       "\n",
       "    .dataframe thead th {\n",
       "        text-align: right;\n",
       "    }\n",
       "</style>\n",
       "<table border=\"1\" class=\"dataframe\">\n",
       "  <thead>\n",
       "    <tr style=\"text-align: right;\">\n",
       "      <th></th>\n",
       "      <th>ix</th>\n",
       "      <th>book_id</th>\n",
       "      <th>goodreads_book_id</th>\n",
       "      <th>best_book_id</th>\n",
       "      <th>work_id</th>\n",
       "      <th>books_count</th>\n",
       "      <th>isbn</th>\n",
       "      <th>isbn13</th>\n",
       "      <th>authors</th>\n",
       "      <th>original_publication_year</th>\n",
       "      <th>...</th>\n",
       "      <th>work_text_reviews_count</th>\n",
       "      <th>ratings_1</th>\n",
       "      <th>ratings_2</th>\n",
       "      <th>ratings_3</th>\n",
       "      <th>ratings_4</th>\n",
       "      <th>ratings_5</th>\n",
       "      <th>image_url</th>\n",
       "      <th>small_image_url</th>\n",
       "      <th>genre</th>\n",
       "      <th>tag_id</th>\n",
       "    </tr>\n",
       "  </thead>\n",
       "  <tbody>\n",
       "    <tr>\n",
       "      <th>0</th>\n",
       "      <td>0</td>\n",
       "      <td>1</td>\n",
       "      <td>2767052</td>\n",
       "      <td>2767052</td>\n",
       "      <td>2792775</td>\n",
       "      <td>272</td>\n",
       "      <td>439023483</td>\n",
       "      <td>9.780439e+12</td>\n",
       "      <td>Suzanne Collins</td>\n",
       "      <td>2008.0</td>\n",
       "      <td>...</td>\n",
       "      <td>155254</td>\n",
       "      <td>66715</td>\n",
       "      <td>127936</td>\n",
       "      <td>560092</td>\n",
       "      <td>1481305</td>\n",
       "      <td>2706317</td>\n",
       "      <td>https://images.gr-assets.com/books/1447303603m...</td>\n",
       "      <td>https://images.gr-assets.com/books/1447303603s...</td>\n",
       "      <td>dystopian</td>\n",
       "      <td>10064</td>\n",
       "    </tr>\n",
       "    <tr>\n",
       "      <th>1</th>\n",
       "      <td>1</td>\n",
       "      <td>2</td>\n",
       "      <td>3</td>\n",
       "      <td>3</td>\n",
       "      <td>4640799</td>\n",
       "      <td>491</td>\n",
       "      <td>439554934</td>\n",
       "      <td>9.780440e+12</td>\n",
       "      <td>J.K. Rowling, Mary GrandPré</td>\n",
       "      <td>1997.0</td>\n",
       "      <td>...</td>\n",
       "      <td>75867</td>\n",
       "      <td>75504</td>\n",
       "      <td>101676</td>\n",
       "      <td>455024</td>\n",
       "      <td>1156318</td>\n",
       "      <td>3011543</td>\n",
       "      <td>https://images.gr-assets.com/books/1474154022m...</td>\n",
       "      <td>https://images.gr-assets.com/books/1474154022s...</td>\n",
       "      <td>fantasy</td>\n",
       "      <td>11305</td>\n",
       "    </tr>\n",
       "    <tr>\n",
       "      <th>2</th>\n",
       "      <td>2</td>\n",
       "      <td>3</td>\n",
       "      <td>41865</td>\n",
       "      <td>41865</td>\n",
       "      <td>3212258</td>\n",
       "      <td>226</td>\n",
       "      <td>316015849</td>\n",
       "      <td>9.780316e+12</td>\n",
       "      <td>Stephenie Meyer</td>\n",
       "      <td>2005.0</td>\n",
       "      <td>...</td>\n",
       "      <td>95009</td>\n",
       "      <td>456191</td>\n",
       "      <td>436802</td>\n",
       "      <td>793319</td>\n",
       "      <td>875073</td>\n",
       "      <td>1355439</td>\n",
       "      <td>https://images.gr-assets.com/books/1361039443m...</td>\n",
       "      <td>https://images.gr-assets.com/books/1361039443s...</td>\n",
       "      <td>fantasy</td>\n",
       "      <td>11305</td>\n",
       "    </tr>\n",
       "    <tr>\n",
       "      <th>3</th>\n",
       "      <td>3</td>\n",
       "      <td>4</td>\n",
       "      <td>2657</td>\n",
       "      <td>2657</td>\n",
       "      <td>3275794</td>\n",
       "      <td>487</td>\n",
       "      <td>61120081</td>\n",
       "      <td>9.780061e+12</td>\n",
       "      <td>Harper Lee</td>\n",
       "      <td>1960.0</td>\n",
       "      <td>...</td>\n",
       "      <td>72586</td>\n",
       "      <td>60427</td>\n",
       "      <td>117415</td>\n",
       "      <td>446835</td>\n",
       "      <td>1001952</td>\n",
       "      <td>1714267</td>\n",
       "      <td>https://images.gr-assets.com/books/1361975680m...</td>\n",
       "      <td>https://images.gr-assets.com/books/1361975680s...</td>\n",
       "      <td>classic</td>\n",
       "      <td>7404</td>\n",
       "    </tr>\n",
       "    <tr>\n",
       "      <th>4</th>\n",
       "      <td>4</td>\n",
       "      <td>5</td>\n",
       "      <td>4671</td>\n",
       "      <td>4671</td>\n",
       "      <td>245494</td>\n",
       "      <td>1356</td>\n",
       "      <td>743273567</td>\n",
       "      <td>9.780743e+12</td>\n",
       "      <td>F. Scott Fitzgerald</td>\n",
       "      <td>1925.0</td>\n",
       "      <td>...</td>\n",
       "      <td>51992</td>\n",
       "      <td>86236</td>\n",
       "      <td>197621</td>\n",
       "      <td>606158</td>\n",
       "      <td>936012</td>\n",
       "      <td>947718</td>\n",
       "      <td>https://images.gr-assets.com/books/1490528560m...</td>\n",
       "      <td>https://images.gr-assets.com/books/1490528560s...</td>\n",
       "      <td>classic</td>\n",
       "      <td>7404</td>\n",
       "    </tr>\n",
       "  </tbody>\n",
       "</table>\n",
       "<p>5 rows × 26 columns</p>\n",
       "</div>"
      ],
      "text/plain": [
       "   ix  book_id  goodreads_book_id  best_book_id  work_id  books_count  \\\n",
       "0   0        1            2767052       2767052  2792775          272   \n",
       "1   1        2                  3             3  4640799          491   \n",
       "2   2        3              41865         41865  3212258          226   \n",
       "3   3        4               2657          2657  3275794          487   \n",
       "4   4        5               4671          4671   245494         1356   \n",
       "\n",
       "        isbn        isbn13                      authors  \\\n",
       "0  439023483  9.780439e+12              Suzanne Collins   \n",
       "1  439554934  9.780440e+12  J.K. Rowling, Mary GrandPré   \n",
       "2  316015849  9.780316e+12              Stephenie Meyer   \n",
       "3   61120081  9.780061e+12                   Harper Lee   \n",
       "4  743273567  9.780743e+12          F. Scott Fitzgerald   \n",
       "\n",
       "   original_publication_year   ...   work_text_reviews_count ratings_1  \\\n",
       "0                     2008.0   ...                    155254     66715   \n",
       "1                     1997.0   ...                     75867     75504   \n",
       "2                     2005.0   ...                     95009    456191   \n",
       "3                     1960.0   ...                     72586     60427   \n",
       "4                     1925.0   ...                     51992     86236   \n",
       "\n",
       "  ratings_2  ratings_3  ratings_4  ratings_5  \\\n",
       "0    127936     560092    1481305    2706317   \n",
       "1    101676     455024    1156318    3011543   \n",
       "2    436802     793319     875073    1355439   \n",
       "3    117415     446835    1001952    1714267   \n",
       "4    197621     606158     936012     947718   \n",
       "\n",
       "                                           image_url  \\\n",
       "0  https://images.gr-assets.com/books/1447303603m...   \n",
       "1  https://images.gr-assets.com/books/1474154022m...   \n",
       "2  https://images.gr-assets.com/books/1361039443m...   \n",
       "3  https://images.gr-assets.com/books/1361975680m...   \n",
       "4  https://images.gr-assets.com/books/1490528560m...   \n",
       "\n",
       "                                     small_image_url      genre  tag_id  \n",
       "0  https://images.gr-assets.com/books/1447303603s...  dystopian   10064  \n",
       "1  https://images.gr-assets.com/books/1474154022s...    fantasy   11305  \n",
       "2  https://images.gr-assets.com/books/1361039443s...    fantasy   11305  \n",
       "3  https://images.gr-assets.com/books/1361975680s...    classic    7404  \n",
       "4  https://images.gr-assets.com/books/1490528560s...    classic    7404  \n",
       "\n",
       "[5 rows x 26 columns]"
      ]
     },
     "execution_count": 5,
     "metadata": {},
     "output_type": "execute_result"
    }
   ],
   "source": [
    "df_books.head()\n",
    "#df_tags.head()"
   ]
  },
  {
   "cell_type": "markdown",
   "metadata": {},
   "source": [
    "## Build a Rank Matrix"
   ]
  },
  {
   "cell_type": "code",
   "execution_count": null,
   "metadata": {},
   "outputs": [],
   "source": []
  },
  {
   "cell_type": "code",
   "execution_count": 15,
   "metadata": {
    "scrolled": false
   },
   "outputs": [],
   "source": [
    "# First, define a matrix size num_books x num_users\n",
    "ratings_genre_mat = np.zeros((N_USERS,N_BOOKS))\n",
    "ratings_mat = np.zeros((N_USERS,N_BOOKS))\n",
    "binary_mat = np.zeros((N_USERS,N_BOOKS))\n",
    "\n",
    "Y, R = ratings_mat, binary_mat\n",
    "in_genre = 'fantasy'\n",
    "\n",
    "genre_list_dict = []\n",
    "\n",
    "# Now fill the rank matrix and validation matrix\n",
    "for i in range(df_ratings_cut.shape[0]):\n",
    "    user_i = df_ratings_cut.user_idx.values[i]\n",
    "    book_i = df_ratings_cut.book_idx.values[i]\n",
    "    rating_i = df_ratings_cut.rating.values[i]\n",
    "    \n",
    "    #ratings_genre_mat[user_i][book_i] = rating_i\n",
    "    ratings_mat[user_i][book_i] = rating_i\n",
    "    binary_mat[user_i][book_i] = 1\n",
    "    \n",
    "    actual_book_i = df_ratings_cut.book_id.values[i]\n",
    "    book_q = df_books[df_books['book_id'].isin([actual_book_i])]\n",
    "    genre, tag_id = book_q.genre.values[0], book_q.tag_id.values[0]\n",
    "    ratings_genre_mat[user_i][book_i] = int(tag_id)    \n",
    "    \n",
    "    genre_list_dict[user_i][] \n",
    "    \n",
    "#    if genre == in_genre:\n",
    "#        ratings_genre_mat[user_i][book_i] = tag_id\n",
    "#         if ratings_genre_mat[user_i][book_i] == 0:\n",
    "#             ratings_genre_mat[user_i][book_i] = 3\n",
    "#         else:\n",
    "#             ratings_genre_mat[user_i][book_i] *= 1.1"
   ]
  },
  {
   "cell_type": "code",
   "execution_count": 62,
   "metadata": {},
   "outputs": [],
   "source": [
    "#print(ratings_genre_mat,ratings_genre_mat.shape)\n",
    "top_3_genres_per_user = np.zeros((N_USERS,3))\n",
    "for rowi in range(ratings_genre_mat.shape[0]):\n",
    "    \n",
    "    i = ratings_genre_mat[rowi]\n",
    "    \n",
    "    unique, counts = np.unique(i,return_counts=True)\n",
    "    #print(len(counts),counts)\n",
    "    pred_idxs_sorted = np.argsort(counts)\n",
    "    pred_idxs_sorted = pred_idxs_sorted[::-1]\n",
    "    #print(pred_idxs_sorted[1:4])\n",
    "    # Start at 1, not 0, to avoid the 0's which are most of the space\n",
    "    top_3_genres_per_user[rowi][0] = unique[pred_idxs_sorted[1]] #counts[pred_idx_sorted[1]]\n",
    "    top_3_genres_per_user[rowi][1] = unique[pred_idxs_sorted[2]] #counts[pred_idx_sorted[1]]\n",
    "    top_3_genres_per_user[rowi][2] = unique[pred_idxs_sorted[3]] #counts[pred_idx_sorted[1]]"
   ]
  },
  {
   "cell_type": "code",
   "execution_count": 63,
   "metadata": {},
   "outputs": [
    {
     "name": "stdout",
     "output_type": "stream",
     "text": [
      "[[26138. 11305.  8055.]\n",
      " [11305. 26138. 20939.]\n",
      " [11305. 18367.  7404.]\n",
      " ...\n",
      " [14821. 20939. 11305.]\n",
      " [11305.  7404. 26138.]\n",
      " [18367. 11305.  7404.]]\n"
     ]
    }
   ],
   "source": [
    "print(top_3_genres_per_user)"
   ]
  },
  {
   "cell_type": "code",
   "execution_count": 8,
   "metadata": {},
   "outputs": [
    {
     "ename": "ValueError",
     "evalue": "Cannot take a larger sample than population when 'replace=False'",
     "output_type": "error",
     "traceback": [
      "\u001b[0;31m---------------------------------------------------------------------------\u001b[0m",
      "\u001b[0;31mValueError\u001b[0m                                Traceback (most recent call last)",
      "\u001b[0;32m<ipython-input-8-4d8cb448de85>\u001b[0m in \u001b[0;36m<module>\u001b[0;34m()\u001b[0m\n\u001b[1;32m      1\u001b[0m \u001b[0;31m# Split between train and test\u001b[0m\u001b[0;34m\u001b[0m\u001b[0;34m\u001b[0m\u001b[0m\n\u001b[1;32m      2\u001b[0m \u001b[0mtrain_set\u001b[0m\u001b[0;34m,\u001b[0m \u001b[0mtest_set\u001b[0m \u001b[0;34m=\u001b[0m \u001b[0mtrain_test_split\u001b[0m\u001b[0;34m(\u001b[0m\u001b[0mratings_mat\u001b[0m\u001b[0;34m,\u001b[0m\u001b[0msplit\u001b[0m\u001b[0;34m=\u001b[0m\u001b[0;36m20\u001b[0m\u001b[0;34m)\u001b[0m\u001b[0;34m\u001b[0m\u001b[0m\n\u001b[0;32m----> 3\u001b[0;31m \u001b[0mtrain_genre_set\u001b[0m\u001b[0;34m,\u001b[0m \u001b[0mtest_genre_set\u001b[0m \u001b[0;34m=\u001b[0m \u001b[0mtrain_test_split\u001b[0m\u001b[0;34m(\u001b[0m\u001b[0mratings_genre_mat\u001b[0m\u001b[0;34m,\u001b[0m\u001b[0msplit\u001b[0m\u001b[0;34m=\u001b[0m\u001b[0;36m20\u001b[0m\u001b[0;34m)\u001b[0m\u001b[0;34m\u001b[0m\u001b[0m\n\u001b[0m",
      "\u001b[0;32m~/WorkArea/DataInsight/Books/recommender_functions.py\u001b[0m in \u001b[0;36mtrain_test_split\u001b[0;34m(ratings, split)\u001b[0m\n\u001b[1;32m     10\u001b[0m         test_ratings = np.random.choice(ratings[user, :].nonzero()[0], \n\u001b[1;32m     11\u001b[0m                                         \u001b[0msize\u001b[0m\u001b[0;34m=\u001b[0m\u001b[0msplit\u001b[0m\u001b[0;34m,\u001b[0m\u001b[0;34m\u001b[0m\u001b[0m\n\u001b[0;32m---> 12\u001b[0;31m                                         replace=False)\n\u001b[0m\u001b[1;32m     13\u001b[0m         \u001b[0mtrain\u001b[0m\u001b[0;34m[\u001b[0m\u001b[0muser\u001b[0m\u001b[0;34m,\u001b[0m \u001b[0mtest_ratings\u001b[0m\u001b[0;34m]\u001b[0m \u001b[0;34m=\u001b[0m \u001b[0;36m0.\u001b[0m\u001b[0;34m\u001b[0m\u001b[0m\n\u001b[1;32m     14\u001b[0m         \u001b[0mtest\u001b[0m\u001b[0;34m[\u001b[0m\u001b[0muser\u001b[0m\u001b[0;34m,\u001b[0m \u001b[0mtest_ratings\u001b[0m\u001b[0;34m]\u001b[0m \u001b[0;34m=\u001b[0m \u001b[0mratings\u001b[0m\u001b[0;34m[\u001b[0m\u001b[0muser\u001b[0m\u001b[0;34m,\u001b[0m \u001b[0mtest_ratings\u001b[0m\u001b[0;34m]\u001b[0m\u001b[0;34m\u001b[0m\u001b[0m\n",
      "\u001b[0;32mmtrand.pyx\u001b[0m in \u001b[0;36mmtrand.RandomState.choice\u001b[0;34m()\u001b[0m\n",
      "\u001b[0;31mValueError\u001b[0m: Cannot take a larger sample than population when 'replace=False'"
     ]
    }
   ],
   "source": [
    "# Split between train and test\n",
    "train_set, test_set = train_test_split(ratings_mat,split=20)\n",
    "train_genre_set, test_genre_set = train_test_split(ratings_genre_mat,split=20)"
   ]
  },
  {
   "cell_type": "code",
   "execution_count": null,
   "metadata": {},
   "outputs": [],
   "source": [
    "# Get user similarity\n",
    "user_similarity = fast_similarity(train_set,kind='user')"
   ]
  },
  {
   "cell_type": "markdown",
   "metadata": {},
   "source": [
    "## Get predictions taking into account all entries"
   ]
  },
  {
   "cell_type": "code",
   "execution_count": 146,
   "metadata": {},
   "outputs": [
    {
     "name": "stdout",
     "output_type": "stream",
     "text": [
      "(537, 7337) (537, 537)\n",
      "User-based CF MSE: 12.032767273849679\n"
     ]
    }
   ],
   "source": [
    "# Get user predictions \n",
    "user_prediction = predict_fast_simple(train_set, user_similarity, kind='user')\n",
    "print ('User-based CF MSE: ' + str(get_mse(user_prediction, test_set)))"
   ]
  },
  {
   "cell_type": "markdown",
   "metadata": {},
   "source": [
    "## Now let's look at only top k entries"
   ]
  },
  {
   "cell_type": "code",
   "execution_count": 147,
   "metadata": {},
   "outputs": [
    {
     "name": "stdout",
     "output_type": "stream",
     "text": [
      "537\n",
      "Top-k User-based CF MSE: 10.85870212300653\n"
     ]
    }
   ],
   "source": [
    "# k = 30 seems to be the mse minimum\n",
    "user_prediction_topk = predict_topk(train_set, user_similarity, kind='user', k=30)\n",
    "print( 'Top-k User-based CF MSE: ' + str(get_mse(user_prediction_topk, test_set)))"
   ]
  },
  {
   "cell_type": "code",
   "execution_count": 149,
   "metadata": {},
   "outputs": [
    {
     "name": "stdout",
     "output_type": "stream",
     "text": [
      "537\n",
      "Top-k User-based CF MSE: 10.796623047410746\n"
     ]
    }
   ],
   "source": [
    "#And do it for Genre\n",
    "user_prediction_topk_genre = predict_topk(train_genre_set, user_similarity, kind='user', k=30)\n",
    "print( 'Top-k User-based CF MSE: ' + str(get_mse(user_genre_prediction_topk, test_genre_set)))"
   ]
  },
  {
   "cell_type": "markdown",
   "metadata": {},
   "source": [
    "## And now we validate"
   ]
  },
  {
   "cell_type": "code",
   "execution_count": 150,
   "metadata": {},
   "outputs": [
    {
     "name": "stdout",
     "output_type": "stream",
     "text": [
      "True:  1.0 5.0\n",
      "Pred:  0.0 2.232095152371682\n",
      "Pred top k:  1.0 4.786587014419023\n"
     ]
    }
   ],
   "source": [
    "# Get info for the unweighted matrix\n",
    "nonzero_test = test_set > 0\n",
    "\n",
    "# get non-zero test entries, since we can't evaluate for unsubmitted ratings!\n",
    "y_true = test_set[nonzero_test]\n",
    "y_pred = user_prediction[nonzero_test]\n",
    "y_pred_topk = user_prediction_topk[nonzero_test]+1\n",
    "\n",
    "print('True: ',min(y_true),max(y_true))\n",
    "print('Pred: ',min(y_pred),max(y_pred))\n",
    "print('Pred top k: ',min(y_pred_topk),max(y_pred_topk))\n",
    "\n",
    "#******FIX THE NAMES HERE FIRST\n",
    "# Continous version of predictions, scaled to 0, 1\n",
    "y_pred_scaled = (y_pred - min(y_pred))/ max(y_pred) # 1.) / 4.\n",
    "y_pred_scaled_topk  = (y_pred_topk - min(y_pred_topk)) / max(y_pred_topk)\n"
   ]
  },
  {
   "cell_type": "code",
   "execution_count": 158,
   "metadata": {},
   "outputs": [],
   "source": [
    "y_true_genre = test_genre_set[nonzero_test]\n",
    "y_pred_genre_topk = user_genre_prediction_topk[nonzero_test]+1\n",
    "\n",
    "y_pred_genre_scaled = (y_pred_genre_topk - min(y_pred_genre_topk)) / max(y_pred_genre_topk)\n"
   ]
  },
  {
   "cell_type": "code",
   "execution_count": 159,
   "metadata": {},
   "outputs": [],
   "source": [
    "# binarize true values and predictions\n",
    "y_pred_binarized = binarize(y_pred.copy(), 3) #5)\n",
    "y_pred_binarized_topk = binarize(y_pred_topk.copy(), 3) #5)\n",
    "y_pred_genre_binarized = binarize(y_pred_genre_topk.copy(), 3) #5)\n",
    "\n",
    "y_true_binarized = binarize(y_true.copy(), 3)\n",
    "y_true_genre_binarized = binarize(y_true_genre.copy(), 3)"
   ]
  },
  {
   "cell_type": "code",
   "execution_count": 160,
   "metadata": {},
   "outputs": [
    {
     "name": "stdout",
     "output_type": "stream",
     "text": [
      "Recall: 0.087\n",
      "Precision: 0.955\n",
      "F1 score: 0.160\n",
      "ROC-AUC: 0.538\n"
     ]
    }
   ],
   "source": [
    "print( 'Recall: %0.3f' % recall_score(y_true_binarized, y_pred_binarized_topk))\n",
    "print( 'Precision: %0.3f' % precision_score(y_true_binarized, y_pred_binarized_topk))\n",
    "print( 'F1 score: %0.3f' % f1_score(y_true_binarized, y_pred_binarized_topk))\n",
    "\n",
    "# but roc-auc is more accurate when using continuous predictions.\n",
    "auc_score = roc_auc_score(y_true_binarized, y_pred_scaled_topk)\n",
    "print( 'ROC-AUC: %0.3f' % auc_score)\n",
    "\n",
    "#fpr_test, tpr_test, thresholds_test = roc_curve(y_true_binarized, y_pred_scaled)\n",
    "fpr, tpr, thresholds = roc_curve(y_true_binarized, y_pred_scaled_topk)\n",
    "#fpr_g, tpr_g, thresholds = roc_curve(y_true_genre_binarized, y_pred_genre_scaled)\n",
    "fpr_w2, tpr_w2, thresholds_w2 = roc_curve(y_true_binarized, y_pred_scaled)"
   ]
  },
  {
   "cell_type": "code",
   "execution_count": 161,
   "metadata": {},
   "outputs": [
    {
     "data": {
      "image/png": "[encoded data removed]",
      "text/plain": [
       "<matplotlib.figure.Figure at 0x1a1d721668>"
      ]
     },
     "metadata": {},
     "output_type": "display_data"
    }
   ],
   "source": [
    "# recall, precision, and f1 are definied for binarized predictions  \n",
    "# plot ROC curve\n",
    "plt.figure(figsize=(8, 6))\n",
    "plt.plot(fpr, tpr, lw=2,color='green',label='New Model (k > 30)')\n",
    "#plt.plot(fpr_g, tpr_g, lw=2,color='blue',label='New Model (k > 30 + genre) ')\n",
    "plt.plot(fpr_w2, tpr_w2, lw=2,color='red',label='Old Model')\n",
    "\n",
    "plt.plot([0, 1], [0, 1], 'k--',lw=2,label='Random')\n",
    "#plt.title('ROC') # (AUC=%0.3f)' % auc_score)\n",
    "plt.xlabel('False Positive Rate',fontsize=20)\n",
    "plt.ylabel('True Positive Rate',fontsize=20)\n",
    "plt.grid(True)\n",
    "plt.legend(fontsize=14)\n",
    "plt.savefig('Plots/%s_%s_roc.png'%(week,day),bbox_to_inches='tight')"
   ]
  },
  {
   "cell_type": "code",
   "execution_count": 174,
   "metadata": {},
   "outputs": [],
   "source": [
    "def recall_at_k(true, pred, user_ids, k, tol=2.5):\n",
    "    unique_users = np.unique(user_ids)\n",
    "    pred_binarized = binarize(pred.copy(), tol)\n",
    "    #print(pred_binarized)\n",
    "    recalls = np.zeros(unique_users.size)\n",
    "    for i in range(unique_users.size):\n",
    "        user_ind = user_ids == unique_users[i]\n",
    "        user_true = true[user_ind]\n",
    "        user_pred = pred[user_ind]\n",
    "        user_pred_binarized = pred_binarized[user_ind]\n",
    "        #print(\"in here\",pred_binarized[user_ind])\n",
    "        ranked_ind = np.argsort(-user_pred)[:k]\n",
    "        recalls[i] = recall_score(user_true[ranked_ind], user_pred_binarized[ranked_ind])\n",
    "    #print(recalls)\n",
    "    return np.mean(recalls[recalls > 0])"
   ]
  },
  {
   "cell_type": "code",
   "execution_count": 171,
   "metadata": {},
   "outputs": [],
   "source": [
    "user_ids = np.tile(np.array([np.arange(test_set.shape[0])]).T, (1, test_set.shape[1]))[nonzero_test]\n",
    "#print(user_ids)\n",
    "#print(y_true_binarized)"
   ]
  },
  {
   "cell_type": "code",
   "execution_count": 176,
   "metadata": {},
   "outputs": [
    {
     "name": "stderr",
     "output_type": "stream",
     "text": [
      "/anaconda3/lib/python3.6/site-packages/sklearn/metrics/classification.py:1137: UndefinedMetricWarning: Recall is ill-defined and being set to 0.0 due to no true samples.\n",
      "  'recall', 'true', average, warn_for)\n"
     ]
    },
    {
     "name": "stdout",
     "output_type": "stream",
     "text": [
      "recall @4 : 0.777\n",
      "recall @8 : 0.489\n",
      "recall @16 : 0.255\n",
      "recall @32 : 0.205\n",
      "\n",
      "\n",
      "recall @4 : 0.780\n",
      "recall @8 : 0.470\n",
      "recall @16 : 0.237\n",
      "recall @32 : 0.191\n"
     ]
    }
   ],
   "source": [
    "print( 'recall @4 : %0.3f' % recall_at_k(y_true_binarized, y_pred_topk, user_ids, 4))\n",
    "print( 'recall @8 : %0.3f' % recall_at_k(y_true_binarized, y_pred_topk, user_ids, 8))\n",
    "print( 'recall @16 : %0.3f' % recall_at_k(y_true_binarized, y_pred_topk, user_ids, 16))\n",
    "print( 'recall @32 : %0.3f' % recall_at_k(y_true_binarized, y_pred_topk, user_ids, 32))\n",
    "\n",
    "print( '\\n\\nrecall @4 : %0.3f' % recall_at_k(y_true_binarized, y_pred, user_ids, 4, tol=1.1))\n",
    "print( 'recall @8 : %0.3f' % recall_at_k(y_true_binarized, y_pred, user_ids, 8, tol=1.1))\n",
    "print( 'recall @16 : %0.3f' % recall_at_k(y_true_binarized, y_pred, user_ids, 16, tol=1.1))\n",
    "print( 'recall @32 : %0.3f' % recall_at_k(y_true_binarized, y_pred, user_ids, 32, tol=1.1))"
   ]
  },
  {
   "cell_type": "code",
   "execution_count": 88,
   "metadata": {},
   "outputs": [
    {
     "name": "stdout",
     "output_type": "stream",
     "text": [
      "[5.] [1.]\n"
     ]
    }
   ],
   "source": [
    "# Get the mean to add to predictions\n",
    "Ymean = np.sum(ratings_mat.T,axis=1)/np.sum(binary_mat.T,axis=1)\n",
    "Ymean = Ymean.reshape((Ymean.shape[0],1))\n",
    "print(max(Ymean),min(Ymean))\n",
    "#print(Ymean.shape)\n",
    "#print(user_prediction)\n",
    "\n",
    "user_i = 310\n",
    "user_prediction_0 = user_prediction[user_i]  #+ Ymean.flatten() - 2\n",
    "#print(max(user_prediction_0),min(user_prediction_0))"
   ]
  },
  {
   "cell_type": "code",
   "execution_count": 89,
   "metadata": {},
   "outputs": [
    {
     "name": "stdout",
     "output_type": "stream",
     "text": [
      "[  30   15   32 ... 6398 2631 7336]\n",
      "Top recommendations for you:\n",
      "Predicting rating 2.07 for book \"Gone Girl\"\n",
      "Predicting rating 2.06 for book \"The Diary of a Young Girl\"\n",
      "Predicting rating 1.94 for book \"Of Mice and Men\"\n",
      "Predicting rating 1.92 for book \"Twilight (Twilight, #1)\"\n",
      "Predicting rating 1.89 for book \"A Wrinkle in Time (A Wrinkle in Time Quintet, #1)\"\n",
      "Predicting rating 1.87 for book \"Pride and Prejudice\"\n"
     ]
    },
    {
     "ename": "IndexError",
     "evalue": "index 0 is out of bounds for axis 0 with size 0",
     "output_type": "error",
     "traceback": [
      "\u001b[0;31m---------------------------------------------------------------------------\u001b[0m",
      "\u001b[0;31mIndexError\u001b[0m                                Traceback (most recent call last)",
      "\u001b[0;32m<ipython-input-89-a1aafc5c87f0>\u001b[0m in \u001b[0;36m<module>\u001b[0;34m()\u001b[0m\n\u001b[1;32m     10\u001b[0m     \u001b[0mdf_temp\u001b[0m \u001b[0;34m=\u001b[0m \u001b[0mdf_ratings_cut\u001b[0m\u001b[0;34m.\u001b[0m\u001b[0mquery\u001b[0m\u001b[0;34m(\u001b[0m\u001b[0;34m'book_idx == %d'\u001b[0m \u001b[0;34m%\u001b[0m \u001b[0mc\u001b[0m\u001b[0;34m)\u001b[0m\u001b[0;34m\u001b[0m\u001b[0m\n\u001b[1;32m     11\u001b[0m     \u001b[0;31m#print(pred_idxs_sorted[i],df_temp.book_id.values)\u001b[0m\u001b[0;34m\u001b[0m\u001b[0;34m\u001b[0m\u001b[0m\n\u001b[0;32m---> 12\u001b[0;31m     \u001b[0mbook_id\u001b[0m \u001b[0;34m=\u001b[0m \u001b[0mdf_temp\u001b[0m\u001b[0;34m.\u001b[0m\u001b[0mbook_id\u001b[0m\u001b[0;34m.\u001b[0m\u001b[0mvalues\u001b[0m\u001b[0;34m[\u001b[0m\u001b[0;36m0\u001b[0m\u001b[0;34m]\u001b[0m\u001b[0;34m\u001b[0m\u001b[0m\n\u001b[0m\u001b[1;32m     13\u001b[0m     \u001b[0mnew_book\u001b[0m \u001b[0;34m=\u001b[0m \u001b[0mdf_books\u001b[0m\u001b[0;34m.\u001b[0m\u001b[0mquery\u001b[0m\u001b[0;34m(\u001b[0m\u001b[0;34m'book_id == %d'\u001b[0m\u001b[0;34m%\u001b[0m\u001b[0mbook_id\u001b[0m\u001b[0;34m)\u001b[0m\u001b[0;34m\u001b[0m\u001b[0m\n\u001b[1;32m     14\u001b[0m     \u001b[0mprint\u001b[0m\u001b[0;34m(\u001b[0m\u001b[0;34m'Predicting rating %0.2f for book \"%s\"'\u001b[0m \u001b[0;34m%\u001b[0m     \u001b[0;34m(\u001b[0m\u001b[0muser_prediction_0\u001b[0m\u001b[0;34m[\u001b[0m\u001b[0mpred_idxs_sorted\u001b[0m\u001b[0;34m[\u001b[0m\u001b[0mi\u001b[0m\u001b[0;34m]\u001b[0m\u001b[0;34m]\u001b[0m\u001b[0;34m,\u001b[0m\u001b[0mnew_book\u001b[0m\u001b[0;34m[\u001b[0m\u001b[0;34m'title'\u001b[0m\u001b[0;34m]\u001b[0m\u001b[0;34m.\u001b[0m\u001b[0mvalues\u001b[0m\u001b[0;34m[\u001b[0m\u001b[0;36m0\u001b[0m\u001b[0;34m]\u001b[0m\u001b[0;34m)\u001b[0m\u001b[0;34m)\u001b[0m\u001b[0;34m\u001b[0m\u001b[0m\n",
      "\u001b[0;31mIndexError\u001b[0m: index 0 is out of bounds for axis 0 with size 0"
     ]
    }
   ],
   "source": [
    "# Sort first user's predictions from highest to lowest\n",
    "pred_idxs_sorted = np.argsort(user_prediction_0)\n",
    "pred_idxs_sorted = pred_idxs_sorted[::-1]\n",
    "print(pred_idxs_sorted)\n",
    "\n",
    "print( \"Top recommendations for you:\")\n",
    "for i in range(8):\n",
    "    \n",
    "    c = int(pred_idxs_sorted[i])-1\n",
    "    df_temp = df_ratings_cut.query('book_idx == %d' % c)\n",
    "    #print(pred_idxs_sorted[i],df_temp.book_id.values)\n",
    "    book_id = df_temp.book_id.values[0]    \n",
    "    new_book = df_books.query('book_id == %d'%book_id)    \n",
    "    print('Predicting rating %0.2f for book \"%s\"' % \\\n",
    "    (user_prediction_0[pred_idxs_sorted[i]],new_book['title'].values[0]))\n",
    "    \n",
    "j = 0\n",
    "print (\"\\nOriginal ratings provided:\")\n",
    "for i in range(len(ratings_mat[user_i])):\n",
    "    \n",
    "    #print(i,user_i, sum(ratings_mat[user_i]))\n",
    "    if ratings_mat[user_i][i] > 0:\n",
    "        j += 1\n",
    "        df_temp = df_ratings_cut.query('book_idx == %d' % i)\n",
    "        book_id = df_temp.book_id.values[0]    \n",
    "        new_book_2 = df_books.query('book_id == %d' % book_id)\n",
    "        print ('Rated %d for \"%s\"' % (ratings_mat[user_i][i],new_book_2['title'].values[0]))\n",
    "    \n",
    "    if j > 4:\n",
    "        break"
   ]
  },
  {
   "cell_type": "code",
   "execution_count": null,
   "metadata": {},
   "outputs": [],
   "source": []
  },
  {
   "cell_type": "code",
   "execution_count": null,
   "metadata": {},
   "outputs": [],
   "source": []
  },
  {
   "cell_type": "code",
   "execution_count": null,
   "metadata": {},
   "outputs": [],
   "source": []
  },
  {
   "cell_type": "code",
   "execution_count": null,
   "metadata": {},
   "outputs": [],
   "source": []
  },
  {
   "cell_type": "code",
   "execution_count": null,
   "metadata": {},
   "outputs": [],
   "source": []
  },
  {
   "cell_type": "code",
   "execution_count": null,
   "metadata": {},
   "outputs": [],
   "source": []
  },
  {
   "cell_type": "code",
   "execution_count": null,
   "metadata": {},
   "outputs": [],
   "source": [
    "import requests\n",
    "CLIENT_ID = 'qc6JdYnnj3G1fpQSsp4n1w'\n",
    "CLIENT_SECRET = 'zD8IroPsQVDvco4V2u9h6hMgV1F3lsIO6FxKiq9eU'"
   ]
  },
  {
   "cell_type": "code",
   "execution_count": null,
   "metadata": {},
   "outputs": [],
   "source": [
    "multi_r = requests.get('https://api.foursquare.com/v2/venues/search?client_id=CLIENT_ID&client_secret=CLIENT_SECRET')\n"
   ]
  }
 ],
 "metadata": {
  "kernelspec": {
   "display_name": "Python 3",
   "language": "python",
   "name": "python3"
  },
  "language_info": {
   "codemirror_mode": {
    "name": "ipython",
    "version": 3
   },
   "file_extension": ".py",
   "mimetype": "text/x-python",
   "name": "python",
   "nbconvert_exporter": "python",
   "pygments_lexer": "ipython3",
   "version": "3.6.4"
  }
 },
 "nbformat": 4,
 "nbformat_minor": 2
}
