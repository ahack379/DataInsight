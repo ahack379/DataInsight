{
 "cells": [
  {
   "cell_type": "code",
   "execution_count": 1,
   "metadata": {},
   "outputs": [],
   "source": [
    "import numpy as np\n",
    "import pandas as pd\n",
    "\n",
    "%matplotlib inline\n",
    "\n",
    "import matplotlib.pyplot as plt \n",
    "import matplotlib\n",
    "\n",
    "matplotlib.rc('font',family='serif')\n",
    "matplotlib.rc('font',weight='bold')\n",
    "matplotlib.rcParams['axes.labelweight'] = 'bold'\n",
    "\n",
    "# Import functions factorized out for ease of viewing\n",
    "from recommender_functions import *"
   ]
  },
  {
   "cell_type": "markdown",
   "metadata": {},
   "source": [
    "# This notebook builds a model to make book recommendations to users for books outside their comfort genre\n",
    "\n",
    "The final product can be found here:\n",
    "http://shelfexplorer.site/"
   ]
  },
  {
   "cell_type": "markdown",
   "metadata": {},
   "source": [
    "# Grab ratings info by user and book"
   ]
  },
  {
   "cell_type": "code",
   "execution_count": 2,
   "metadata": {
    "scrolled": false
   },
   "outputs": [],
   "source": [
    "# Get the ratings by user; this starts at user index 1 \n",
    "r = pd.read_csv('goodbooks-10k/user_ratings.csv')\n",
    "df_u_ratings = pd.DataFrame(r)\n",
    "df_u_ratings['user_counts'] = df_u_ratings.groupby(['user_id'])['book_id'].transform('count')\n",
    "df_u_ratings['book_counts'] = df_u_ratings.groupby(['book_id'])['user_id'].transform('count')\n",
    "\n",
    "# Apply user + book cuts and add a user index for matrix building later\n",
    "cut_u, cut_b = 175, 1\n",
    "df_u_ratings = df_u_ratings.query('user_counts > %d & book_counts > %d'%(cut_u,cut_b))\n",
    "df_u_ratings['user_idx'] = pd.Categorical(df_u_ratings['user_id']).codes \n",
    "df_u_ratings['book_idx'] = pd.Categorical(df_u_ratings['book_id']).codes \n",
    "\n",
    "# Set number of books and users variables for later use\n",
    "N_BOOKS = len(df_u_ratings.book_id.unique()) \n",
    "N_USERS = len(df_u_ratings.user_id.unique())"
   ]
  },
  {
   "cell_type": "code",
   "execution_count": 3,
   "metadata": {},
   "outputs": [
    {
     "name": "stdout",
     "output_type": "stream",
     "text": [
      "Users and books in our matrix: (537,7337)\n"
     ]
    }
   ],
   "source": [
    "print('Users and books in our matrix: (%d,%d)'%(N_USERS,N_BOOKS))"
   ]
  },
  {
   "cell_type": "code",
   "execution_count": 4,
   "metadata": {},
   "outputs": [],
   "source": [
    "# Get the ratings by book; this starts at book index 1 \n",
    "r = pd.read_csv('goodbooks-10k/book_ratings.csv')\n",
    "df_b_ratings = pd.DataFrame(r)\n",
    "\n",
    "# Get the most popular genre tags\n",
    "r = pd.read_csv('goodbooks-10k/genre_tags.csv')\n",
    "df_tags = pd.DataFrame(r)\n",
    "df_tags['tag_index'] = pd.Categorical(df_tags['tag_id']).codes "
   ]
  },
  {
   "cell_type": "markdown",
   "metadata": {},
   "source": [
    "## Build recommendation matrix"
   ]
  },
  {
   "cell_type": "code",
   "execution_count": 5,
   "metadata": {
    "scrolled": false
   },
   "outputs": [],
   "source": [
    "# First build ratings and genre matrices and fill in ratings zeros with averages\n",
    "ratings_mat, genre_mat = build_rank_matrix(df_u_ratings,df_b_ratings)\n",
    "ratings_mat, user_ave_mat = impute_matrix(ratings_mat)"
   ]
  },
  {
   "cell_type": "code",
   "execution_count": 6,
   "metadata": {},
   "outputs": [
    {
     "name": "stdout",
     "output_type": "stream",
     "text": [
      "Ratings matrix is shape (537,7337)\n"
     ]
    }
   ],
   "source": [
    "print('Ratings matrix is shape (%d,%d)'%(ratings_mat.shape[0],ratings_mat.shape[1]))"
   ]
  },
  {
   "cell_type": "code",
   "execution_count": 7,
   "metadata": {},
   "outputs": [
    {
     "name": "stdout",
     "output_type": "stream",
     "text": [
      "Split Train %: 80.91863159329426\n",
      "Split Test  %: 19.08136840670574\n"
     ]
    }
   ],
   "source": [
    "# Next, split data between train and test (roughly 80:20 split)\n",
    "train_set, test_set = train_test_split(ratings_mat,split=1400)\n",
    "print('Split Train %:' ,float(len(np.nonzero(train_set)[0]))/(len(np.nonzero(train_set)[0])+len(np.nonzero(test_set)[0]))*100)\n",
    "print('Split Test  %:' ,float(len(np.nonzero(test_set)[0]))/(len(np.nonzero(train_set)[0])+len(np.nonzero(test_set)[0]))*100)"
   ]
  },
  {
   "cell_type": "code",
   "execution_count": 8,
   "metadata": {},
   "outputs": [],
   "source": [
    "# Calculate similarity between different users in the set\n",
    "user_similarity = fast_similarity(train_set,kind='user')"
   ]
  },
  {
   "cell_type": "code",
   "execution_count": 9,
   "metadata": {},
   "outputs": [],
   "source": [
    "# Get user predictions \n",
    "user_prediction_topk = predict_topk(train_set, user_similarity, kind='user')"
   ]
  },
  {
   "cell_type": "markdown",
   "metadata": {},
   "source": [
    "## Validate the model"
   ]
  },
  {
   "cell_type": "code",
   "execution_count": 10,
   "metadata": {},
   "outputs": [],
   "source": [
    "# We now have recommendations! Before we validate, we need to mask out user's favorite genre \n",
    "top_genres_per_user = get_user_genre_pref(df_tags,genre_mat)\n",
    "\n",
    "# Build a matrix to blind user's top genres from test set recommendations\n",
    "blind_mat = blind_users_fav_genre(genre_mat,top_genres_per_user)\n",
    "blind_test_set = test_set.copy() * blind_mat"
   ]
  },
  {
   "cell_type": "code",
   "execution_count": 11,
   "metadata": {},
   "outputs": [],
   "source": [
    "# Gather information on truth and predicted values\n",
    "blind_y_true = blind_test_set[blind_test_set > 0]\n",
    "blind_y_pred = user_prediction_topk[blind_test_set > 0]\n",
    "\n",
    "# Binarize true values and predictions using user's average rating as a threshold\n",
    "user_ave_thresholds = user_ave_mat[blind_test_set > 0]\n",
    "\n",
    "blind_y_true_binarized = binarize(blind_y_true.copy(), user_ave_thresholds)\n",
    "blind_y_pred_binarized = binarize(blind_y_pred.copy(), user_ave_thresholds) "
   ]
  },
  {
   "cell_type": "code",
   "execution_count": 12,
   "metadata": {},
   "outputs": [
    {
     "name": "stderr",
     "output_type": "stream",
     "text": [
      "/anaconda3/lib/python3.6/site-packages/sklearn/metrics/classification.py:1135: UndefinedMetricWarning: Precision is ill-defined and being set to 0.0 due to no predicted samples.\n",
      "  'precision', 'predicted', average, warn_for)\n"
     ]
    }
   ],
   "source": [
    "# Calculate the ave precision per user \n",
    "\n",
    "# First, identify user ids per ranking\n",
    "all_user_ids = np.array([np.arange(N_USERS)]).T\n",
    "user_id_matrix = np.tile(all_user_ids,(1,N_BOOKS)) \n",
    "\n",
    "# Now we have a matrix N_USERS x N_BOOKS wide with user ids across corresponding rows\n",
    "user_ids = user_id_matrix[blind_test_set > 0]\n",
    "\n",
    "# Now calculate the average precision per user over a range of #recommended books \n",
    "precision_v = [precision_at_k(blind_y_true_binarized, blind_y_pred, blind_y_pred_binarized, \n",
    "                        user_ids, i, tol=user_ave_thresholds) for i in range(1,30)]"
   ]
  },
  {
   "cell_type": "code",
   "execution_count": 13,
   "metadata": {},
   "outputs": [
    {
     "data": {
      "text/plain": [
       "(0, 30)"
      ]
     },
     "execution_count": 13,
     "metadata": {},
     "output_type": "execute_result"
    },
    {
     "data": {
      "image/png": "[encoded data removed]",
      "text/plain": [
       "<matplotlib.figure.Figure at 0x1a14ab2278>"
      ]
     },
     "metadata": {},
     "output_type": "display_data"
    }
   ],
   "source": [
    "plt.figure(figsize=(6,4))\n",
    "x=np.linspace(1,31,29)\n",
    "plt.plot(x,precision_v,'-o',color='green')\n",
    "plt.xlabel('# of Recommendations',fontsize=18,weight='bold')\n",
    "plt.ylabel('Precision',fontsize=18,weight='bold')\n",
    "plt.grid(True,ls='--')\n",
    "plt.savefig('Plots/ave_user_precision.png',bbox_inches='tight')\n",
    "plt.xlim(0,30)"
   ]
  },
  {
   "cell_type": "code",
   "execution_count": null,
   "metadata": {},
   "outputs": [],
   "source": []
  }
 ],
 "metadata": {
  "kernelspec": {
   "display_name": "Python 3",
   "language": "python",
   "name": "python3"
  },
  "language_info": {
   "codemirror_mode": {
    "name": "ipython",
    "version": 3
   },
   "file_extension": ".py",
   "mimetype": "text/x-python",
   "name": "python",
   "nbconvert_exporter": "python",
   "pygments_lexer": "ipython3",
   "version": "3.6.4"
  }
 },
 "nbformat": 4,
 "nbformat_minor": 2
}
