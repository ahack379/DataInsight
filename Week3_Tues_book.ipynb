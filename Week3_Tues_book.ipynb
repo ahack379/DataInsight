{
 "cells": [
  {
   "cell_type": "code",
   "execution_count": 1,
   "metadata": {},
   "outputs": [],
   "source": [
    "import sys\n",
    "import numpy as np\n",
    "import math\n",
    "import pandas as pd\n",
    "import random\n",
    "\n",
    "from scipy import stats\n",
    "\n",
    "%matplotlib inline\n",
    "\n",
    "import matplotlib.pyplot as plt \n",
    "import matplotlib\n",
    "matplotlib.rc('font',family='serif')\n",
    "matplotlib.rc('font',weight='bold')\n",
    "matplotlib.rc('font',size=16)\n",
    "matplotlib.rcParams['axes.labelweight'] = 'bold'\n",
    "\n",
    "from recommender_functions import *\n",
    "from sklearn.metrics import recall_score, precision_score, f1_score, roc_curve, roc_auc_score"
   ]
  },
  {
   "cell_type": "code",
   "execution_count": 2,
   "metadata": {},
   "outputs": [],
   "source": [
    "week = 'Week3'\n",
    "day  = 'Tues'"
   ]
  },
  {
   "cell_type": "code",
   "execution_count": 3,
   "metadata": {
    "scrolled": false
   },
   "outputs": [
    {
     "name": "stderr",
     "output_type": "stream",
     "text": [
      "/anaconda3/lib/python3.6/site-packages/ipykernel_launcher.py:12: SettingWithCopyWarning: \n",
      "A value is trying to be set on a copy of a slice from a DataFrame.\n",
      "Try using .loc[row_indexer,col_indexer] = value instead\n",
      "\n",
      "See the caveats in the documentation: http://pandas.pydata.org/pandas-docs/stable/indexing.html#indexing-view-versus-copy\n",
      "  if sys.path[0] == '':\n",
      "/anaconda3/lib/python3.6/site-packages/ipykernel_launcher.py:13: SettingWithCopyWarning: \n",
      "A value is trying to be set on a copy of a slice from a DataFrame.\n",
      "Try using .loc[row_indexer,col_indexer] = value instead\n",
      "\n",
      "See the caveats in the documentation: http://pandas.pydata.org/pandas-docs/stable/indexing.html#indexing-view-versus-copy\n",
      "  del sys.path[0]\n"
     ]
    }
   ],
   "source": [
    "# Get the ratings by user ID: starts at user index 1 \n",
    "r = pd.read_csv('goodbooks-10k/ratings.csv')\n",
    "df_ratings = pd.DataFrame(r)\n",
    "\n",
    "# Add counts to the df\n",
    "cut_u, cut_b = 175, 1 #175, 1\n",
    "df_ratings['user_counts'] = df_ratings.groupby(['user_id'])['book_id'].transform('count')\n",
    "df_ratings['book_counts'] = df_ratings.groupby(['book_id'])['user_id'].transform('count')\n",
    "df_ratings_cut = df_ratings.query('user_counts > %d '%(cut_u))\n",
    "\n",
    "# Add an index for the user for matrix making later\n",
    "df_ratings_cut['user_idx'] = pd.Categorical(df_ratings_cut['user_id']).codes \n",
    "df_ratings_cut['book_idx'] = pd.Categorical(df_ratings_cut['book_id']).codes \n",
    "\n",
    "# ...but also do a groupby, so can plot easily\n",
    "df_ratings_count_u = df_ratings.groupby(['user_id']).size().reset_index(name='Counts')\n",
    "\n",
    "r = pd.read_csv('goodbooks-10k/books_with_genres.csv')\n",
    "df_books = pd.DataFrame(r)\n",
    "df_ratings_cut.head()\n",
    "\n",
    "r = pd.read_csv('goodbooks-10k/ahack_tags_3.csv')\n",
    "df_tags = pd.DataFrame(r)\n",
    "df_tags['tag_index'] = pd.Categorical(df_tags['tag_id']).codes \n"
   ]
  },
  {
   "cell_type": "code",
   "execution_count": 59,
   "metadata": {},
   "outputs": [
    {
     "name": "stdout",
     "output_type": "stream",
     "text": [
      "0 7336\n",
      "0 536\n",
      "1 10000\n"
     ]
    }
   ],
   "source": [
    "print( min(df_ratings_cut['book_idx'].values),max(df_ratings_cut['book_idx'].values))\n",
    "print( min(df_ratings_cut['user_idx'].values),max(df_ratings_cut['user_idx'].values))\n",
    "print( min(df_ratings_cut['book_id'].values),max(df_ratings_cut['book_id'].values))"
   ]
  },
  {
   "cell_type": "code",
   "execution_count": 57,
   "metadata": {},
   "outputs": [],
   "source": [
    "#plt.hist(df_books.book_id.values,range=(0,10))"
   ]
  },
  {
   "cell_type": "code",
   "execution_count": 58,
   "metadata": {},
   "outputs": [
    {
     "name": "stdout",
     "output_type": "stream",
     "text": [
      "7337 537\n"
     ]
    }
   ],
   "source": [
    "# Set number of books and users variables for later use\n",
    "N_BOOKS = len(df_ratings_cut.book_id.unique()) \n",
    "N_USERS = len(df_ratings_cut.user_id.unique())\n",
    "\n",
    "print(N_BOOKS,N_USERS)"
   ]
  },
  {
   "cell_type": "code",
   "execution_count": 5,
   "metadata": {},
   "outputs": [
    {
     "data": {
      "text/html": [
       "<div>\n",
       "<style scoped>\n",
       "    .dataframe tbody tr th:only-of-type {\n",
       "        vertical-align: middle;\n",
       "    }\n",
       "\n",
       "    .dataframe tbody tr th {\n",
       "        vertical-align: top;\n",
       "    }\n",
       "\n",
       "    .dataframe thead th {\n",
       "        text-align: right;\n",
       "    }\n",
       "</style>\n",
       "<table border=\"1\" class=\"dataframe\">\n",
       "  <thead>\n",
       "    <tr style=\"text-align: right;\">\n",
       "      <th></th>\n",
       "      <th>tag_id</th>\n",
       "      <th>tag_name</th>\n",
       "      <th>tag_index</th>\n",
       "    </tr>\n",
       "  </thead>\n",
       "  <tbody>\n",
       "    <tr>\n",
       "      <th>0</th>\n",
       "      <td>1691</td>\n",
       "      <td>adventure</td>\n",
       "      <td>0</td>\n",
       "    </tr>\n",
       "    <tr>\n",
       "      <th>1</th>\n",
       "      <td>2580</td>\n",
       "      <td>animals</td>\n",
       "      <td>1</td>\n",
       "    </tr>\n",
       "    <tr>\n",
       "      <th>2</th>\n",
       "      <td>2768</td>\n",
       "      <td>apocalyptic</td>\n",
       "      <td>2</td>\n",
       "    </tr>\n",
       "    <tr>\n",
       "      <th>3</th>\n",
       "      <td>2938</td>\n",
       "      <td>art</td>\n",
       "      <td>3</td>\n",
       "    </tr>\n",
       "    <tr>\n",
       "      <th>4</th>\n",
       "      <td>4605</td>\n",
       "      <td>biography</td>\n",
       "      <td>4</td>\n",
       "    </tr>\n",
       "  </tbody>\n",
       "</table>\n",
       "</div>"
      ],
      "text/plain": [
       "   tag_id     tag_name  tag_index\n",
       "0    1691    adventure          0\n",
       "1    2580      animals          1\n",
       "2    2768  apocalyptic          2\n",
       "3    2938          art          3\n",
       "4    4605    biography          4"
      ]
     },
     "execution_count": 5,
     "metadata": {},
     "output_type": "execute_result"
    }
   ],
   "source": [
    "df_books.head()\n",
    "df_tags.head()"
   ]
  },
  {
   "cell_type": "markdown",
   "metadata": {},
   "source": [
    "## Build a Rank Matrix"
   ]
  },
  {
   "cell_type": "code",
   "execution_count": 198,
   "metadata": {
    "scrolled": false
   },
   "outputs": [],
   "source": [
    "# First, define a matrix size num_books x num_users\n",
    "ratings_genre_mat = np.zeros((N_USERS,N_BOOKS))\n",
    "ratings_mat = np.zeros((N_USERS,N_BOOKS))\n",
    "binary_mat = np.zeros((N_USERS,N_BOOKS))\n",
    "\n",
    "Y, R = ratings_mat, binary_mat\n",
    "\n",
    "genre_list_dict = []\n",
    "\n",
    "# Now fill the rank matrix and validation matrix\n",
    "for i in range(df_ratings_cut.shape[0]):\n",
    "    user_i = df_ratings_cut.user_idx.values[i] # This goes from 0 -> 536\n",
    "    book_i = df_ratings_cut.book_idx.values[i] # This goes from 0 -> 7336\n",
    "    rating_i = df_ratings_cut.rating.values[i] # This goes from 1 -> 5\n",
    "\n",
    "    # Fill ratings + binary matrix\n",
    "    ratings_mat[user_i][book_i] = rating_i\n",
    "    binary_mat[user_i][book_i] = 1\n",
    "    \n",
    "    # Now fill the genre tag matrix\n",
    "    # First link ratings matrix entry to its book in df_books\n",
    "    actual_book_i = df_ratings_cut.book_id.values[i]               # book_id goes from 1 -> 10000\n",
    "    book_q = df_books.loc[df_books['book_id'] == actual_book_i]\n",
    "    genre, tag_id = book_q.genre.values[0], book_q.tag_id.values[0] \n",
    "    \n",
    "    ratings_genre_mat[user_i][book_i] = int(tag_id)    "
   ]
  },
  {
   "cell_type": "code",
   "execution_count": 60,
   "metadata": {},
   "outputs": [],
   "source": [
    "# Now store the top 3 genre preferences per user \n",
    "top_3_genres_per_user = np.zeros((N_USERS,4))\n",
    "top_3_genres_names_per_user = []\n",
    "\n",
    "for rowi in range(ratings_genre_mat.shape[0]):\n",
    "    \n",
    "    i = ratings_genre_mat[rowi]\n",
    "    \n",
    "    unique, counts = np.unique(i,return_counts=True)\n",
    "\n",
    "    pred_idxs_sorted = np.argsort(counts)\n",
    "    pred_idxs_sorted = pred_idxs_sorted[::-1]\n",
    "    #print(pred_idxs_sorted[1:4])\n",
    "    # Start at 1, not 0, to avoid the 0's which are most of the space\n",
    "    top_3_genres_per_user[rowi][0] = unique[pred_idxs_sorted[1]] #counts[pred_idx_sorted[1]]\n",
    "    top_3_genres_per_user[rowi][1] = unique[pred_idxs_sorted[2]] #counts[pred_idx_sorted[1]]\n",
    "    top_3_genres_per_user[rowi][2] = unique[pred_idxs_sorted[3]] #counts[pred_idx_sorted[1]]\n",
    "    top_3_genres_per_user[rowi][3] = unique[pred_idxs_sorted[4]] #counts[pred_idx_sorted[1]]\n",
    "    \n",
    "    first_pick = df_tags.query('tag_id == %d'%int(top_3_genres_per_user[rowi][0]))\n",
    "    second_pick = df_tags.query('tag_id == %d'%int(top_3_genres_per_user[rowi][1]))\n",
    "    third_pick = df_tags.query('tag_id == %d'%int(top_3_genres_per_user[rowi][2]))\n",
    "\n",
    "    user_pref_v = [first_pick['tag_name'].values[0], second_pick['tag_name'].values[0], third_pick['tag_name'].values[0]]\n",
    "\n",
    "    top_3_genres_names_per_user.append(user_pref_v)"
   ]
  },
  {
   "cell_type": "code",
   "execution_count": 61,
   "metadata": {},
   "outputs": [
    {
     "name": "stdout",
     "output_type": "stream",
     "text": [
      "User prefs:  ['romance', 'fantasy', 'contemporary']\n"
     ]
    }
   ],
   "source": [
    "print('User prefs: ',top_3_genres_names_per_user[0])"
   ]
  },
  {
   "cell_type": "code",
   "execution_count": 62,
   "metadata": {},
   "outputs": [],
   "source": [
    "# Split between train and test\n",
    "train_set, test_set = train_test_split(ratings_mat,split=20)"
   ]
  },
  {
   "cell_type": "code",
   "execution_count": 63,
   "metadata": {},
   "outputs": [],
   "source": [
    "# Get user similarity\n",
    "user_similarity = fast_similarity(train_set,kind='user')"
   ]
  },
  {
   "cell_type": "code",
   "execution_count": 204,
   "metadata": {},
   "outputs": [],
   "source": [
    "#print(user_similarity[-1][:10])\n",
    "#print(user_similarity.T[-1][:10])"
   ]
  },
  {
   "cell_type": "markdown",
   "metadata": {},
   "source": [
    "## Get predictions taking into account all entries"
   ]
  },
  {
   "cell_type": "code",
   "execution_count": 74,
   "metadata": {},
   "outputs": [
    {
     "name": "stdout",
     "output_type": "stream",
     "text": [
      "(537, 7337) (537, 537)\n",
      "User-based CF MSE: 12.11293520701285\n"
     ]
    }
   ],
   "source": [
    "# Get user predictions \n",
    "user_prediction = predict_fast_simple(train_set, user_similarity, kind='user')\n",
    "print ('User-based CF MSE: ' + str(get_mse(user_prediction, test_set)))"
   ]
  },
  {
   "cell_type": "markdown",
   "metadata": {},
   "source": [
    "## Now let's look at only top k entries"
   ]
  },
  {
   "cell_type": "code",
   "execution_count": 15,
   "metadata": {},
   "outputs": [
    {
     "name": "stdout",
     "output_type": "stream",
     "text": [
      "537\n",
      "Top-k User-based CF MSE: 10.805375240632316\n"
     ]
    }
   ],
   "source": [
    "# k = 30 seems to be the mse minimum\n",
    "user_prediction_topk = predict_topk(train_set, user_similarity, kind='user', k=30)\n",
    "print( 'Top-k User-based CF MSE: ' + str(get_mse(user_prediction_topk, test_set)))"
   ]
  },
  {
   "cell_type": "code",
   "execution_count": 207,
   "metadata": {},
   "outputs": [],
   "source": [
    "def predict_fast_topk(ratings, similarity, kind='user', k=40):\n",
    "\n",
    "    pred = np.zeros(ratings.shape)\n",
    "\n",
    "    \n",
    "    top_k_users = [np.argsort(similarity[:,-1])[:-k-1:-1]]\n",
    "\n",
    "    for j in range(ratings.shape[1]):\n",
    "        pred[-1, j] = similarity[-1, :][top_k_users].dot(ratings[:, j][top_k_users])\n",
    "        pred[-1, j] /= np.sum(np.abs(similarity[-1, :][top_k_users]))\n",
    "\n",
    "    return pred"
   ]
  },
  {
   "cell_type": "code",
   "execution_count": 214,
   "metadata": {},
   "outputs": [
    {
     "name": "stdout",
     "output_type": "stream",
     "text": [
      "537\n"
     ]
    }
   ],
   "source": [
    "user_prediction_topk = predict_topk(train_set, user_similarity, kind='user', k=30)\n",
    "#This one only works for the last user input; for interface\n",
    "#user_prediction_topk = predict_fast_topk(train_set, user_similarity, kind='user', k=30)"
   ]
  },
  {
   "cell_type": "code",
   "execution_count": 210,
   "metadata": {},
   "outputs": [],
   "source": [
    "# Finally, weight the initial predictions made by the system\n",
    "# Need to vectorize this\n",
    "weight = 1.3\n",
    "threshold = 3. / weight\n",
    "\n",
    "user_prediction_topk_genre = user_prediction_topk.copy()\n",
    "user_genre_coords = np.argwhere( user_prediction_topk_genre > threshold)\n",
    "\n",
    "for c in user_genre_coords:\n",
    "    x, y = c[0], c[1]\n",
    "    rating_i = user_prediction_topk_genre[x][y]\n",
    "\n",
    "    # Get book id from the book_idx to link us to the df_books db genre for this rating entry\n",
    "    ratings_book_id = df_ratings_cut.loc[df_ratings_cut['book_idx'] == int(y)]['book_id'].values[0]\n",
    "    genre_xy = df_books.loc[df_books['book_id'] == ratings_book_id]['genre'].values[0]\n",
    "    title_xy = df_books.loc[df_books['book_id'] == ratings_book_id]['title'].values[0]\n",
    "\n",
    "    #print('\\nRecommended Genre: {} {}'.format(genre_xy, user_prediction_topk_genre[x][y]))\n",
    "\n",
    "    if genre_xy not in top_3_genres_names_per_user[x]:\n",
    "        user_prediction_topk_genre[x][y] *= weight\n",
    "    #    print('Title: {}'.format(title_xy)) \n",
    "    #    print('New weight: ',user_prediction_topk_genre[x][y])"
   ]
  },
  {
   "cell_type": "markdown",
   "metadata": {},
   "source": [
    "## And now we validate"
   ]
  },
  {
   "cell_type": "code",
   "execution_count": 102,
   "metadata": {},
   "outputs": [
    {
     "name": "stdout",
     "output_type": "stream",
     "text": [
      "True:  1.0 5.0\n",
      "Pred top k:  0.0 4.3861088778618535\n",
      "Pred top k genre:  0.0 5.263330653434224\n"
     ]
    }
   ],
   "source": [
    "# Get info for the unweighted matrix\n",
    "nonzero_test = test_set > 0\n",
    "\n",
    "# get non-zero test entries, since we can't evaluate for unsubmitted ratings!\n",
    "y_true = test_set[nonzero_test]\n",
    "y_pred_topk = user_prediction_topk[nonzero_test] #+1\n",
    "y_pred_topk_genre = user_prediction_topk_genre[nonzero_test]\n",
    "\n",
    "print('True: ',min(y_true),max(y_true))\n",
    "print('Pred top k: ',min(y_pred_topk),max(y_pred_topk))\n",
    "print('Pred top k genre: ',min(y_pred_topk_genre),max(y_pred_topk_genre))\n",
    "\n",
    "# Continous version of predictions, scaled to 0, 1\n",
    "y_pred_scaled_topk  = (y_pred_topk - min(y_pred_topk)) / max(y_pred_topk)\n",
    "y_pred_scaled_topk_genre  = (y_pred_topk_genre - min(y_pred_topk_genre)) / max(y_pred_topk_genre)\n",
    "\n",
    "# binarize true values and predictions\n",
    "y_true_binarized = binarize(y_true.copy(), 3)\n",
    "y_pred_binarized_topk = binarize(y_pred_topk.copy(), 3) \n",
    "y_pred_binarized_topk_genre = binarize(y_pred_topk_genre.copy(), 3) "
   ]
  },
  {
   "cell_type": "code",
   "execution_count": 103,
   "metadata": {},
   "outputs": [
    {
     "name": "stdout",
     "output_type": "stream",
     "text": [
      "0.0 1.0\n",
      "0.0 1.0\n"
     ]
    }
   ],
   "source": [
    "print(min(y_pred_scaled_topk),max(y_pred_scaled_topk))\n",
    "print(min(y_pred_scaled_topk_genre),max(y_pred_scaled_topk_genre))"
   ]
  },
  {
   "cell_type": "code",
   "execution_count": 199,
   "metadata": {},
   "outputs": [
    {
     "name": "stdout",
     "output_type": "stream",
     "text": [
      "Recall: 0.045\n",
      "Precision: 0.998\n",
      "F1 score: 0.086\n",
      "\n",
      " With genre: \n",
      "Recall: 0.077\n",
      "Precision: 0.991\n",
      "F1 score: 0.144\n",
      "ROC-AUC: 0.675\n"
     ]
    }
   ],
   "source": [
    "print( 'Recall: %0.3f' % recall_score(y_true_binarized, y_pred_binarized_topk))\n",
    "print( 'Precision: %0.3f' % precision_score(y_true_binarized, y_pred_binarized_topk))\n",
    "print( 'F1 score: %0.3f' % f1_score(y_true_binarized, y_pred_binarized_topk))\n",
    "\n",
    "print( '\\n With genre: ')\n",
    "print( 'Recall: %0.3f' % recall_score(y_true_binarized, y_pred_binarized_topk_genre))\n",
    "print( 'Precision: %0.3f' % precision_score(y_true_binarized, y_pred_binarized_topk_genre))\n",
    "print( 'F1 score: %0.3f' % f1_score(y_true_binarized, y_pred_binarized_topk_genre))\n",
    "\n",
    "# but roc-auc is more accurate when using continuous predictions.\n",
    "auc_score = roc_auc_score(y_true_binarized, y_pred_scaled_topk_genre)\n",
    "print( 'ROC-AUC: %0.3f' % auc_score)"
   ]
  },
  {
   "cell_type": "code",
   "execution_count": 105,
   "metadata": {},
   "outputs": [],
   "source": [
    "fpr, tpr, thresholds     = roc_curve(y_true_binarized, y_pred_scaled_topk)\n",
    "fpr_g, tpr_g, thresholds = roc_curve(y_true_binarized, y_pred_scaled_topk_genre)"
   ]
  },
  {
   "cell_type": "code",
   "execution_count": 129,
   "metadata": {},
   "outputs": [
    {
     "data": {
      "image/png": "[encoded data removed]",
      "text/plain": [
       "<matplotlib.figure.Figure at 0x1a12031b00>"
      ]
     },
     "metadata": {},
     "output_type": "display_data"
    }
   ],
   "source": [
    "# recall, precision, and f1 are definied for binarized predictions  \n",
    "# plot ROC curve\n",
    "plt.figure(figsize=(8, 6))\n",
    "#plt.plot(fpr, tpr, lw=2,color='green',label='New Model (k > 30)')\n",
    "plt.plot(fpr_g, tpr_g, lw=2,color='blue',label='Model') #New Model (k > 30 + genre) ')\n",
    "plt.plot([0, 1], [0, 1], 'k--',lw=2,label='Random')\n",
    "#plt.title('ROC') # (AUC=%0.3f)' % auc_score)\n",
    "plt.xlabel('False Positive Rate',fontsize=20)\n",
    "plt.ylabel('True Positive Rate',fontsize=20)\n",
    "plt.grid(True)\n",
    "plt.legend(fontsize=14)\n",
    "plt.savefig('Plots/%s_%s_roc.png'%(week,day),bbox_to_inches='tight')"
   ]
  },
  {
   "cell_type": "code",
   "execution_count": 137,
   "metadata": {},
   "outputs": [],
   "source": [
    "f = open('hold_roc_values.txt','w')\n",
    "#print(len(fpr_g))\n",
    "\n",
    "for i in range(len(fpr_g)):\n",
    "    f.write(str(fpr_g[i]))\n",
    "    f.write(' ')\n",
    "\n",
    "f.write('\\n\\n')\n",
    "for i in range(len(tpr_g)):\n",
    "    f.write(str(tpr_g[i]))\n",
    "    f.write(' ')\n",
    "\n",
    "f.close()"
   ]
  },
  {
   "cell_type": "code",
   "execution_count": 111,
   "metadata": {},
   "outputs": [],
   "source": [
    "def recall_at_k(true, pred, user_ids, k, tol=2.5):\n",
    "    unique_users = np.unique(user_ids)\n",
    "    pred_binarized = binarize(pred.copy(), tol)\n",
    "    #print(pred_binarized)\n",
    "    recalls = np.zeros(unique_users.size)\n",
    "    for i in range(unique_users.size):\n",
    "        user_ind = user_ids == unique_users[i]\n",
    "        user_true = true[user_ind]\n",
    "        user_pred = pred[user_ind]\n",
    "        user_pred_binarized = pred_binarized[user_ind]\n",
    "        #print(\"in here\",pred_binarized[user_ind])\n",
    "        ranked_ind = np.argsort(-user_pred)[:k]\n",
    "        recalls[i] = recall_score(user_true[ranked_ind], user_pred_binarized[ranked_ind])\n",
    "    #print(recalls)\n",
    "    return np.mean(recalls[recalls > 0])"
   ]
  },
  {
   "cell_type": "code",
   "execution_count": 112,
   "metadata": {},
   "outputs": [],
   "source": [
    "user_ids = np.tile(np.array([np.arange(test_set.shape[0])]).T, (1, test_set.shape[1]))[nonzero_test]\n",
    "#print(user_ids)\n",
    "#print(y_true_binarized)"
   ]
  },
  {
   "cell_type": "code",
   "execution_count": 113,
   "metadata": {},
   "outputs": [
    {
     "name": "stderr",
     "output_type": "stream",
     "text": [
      "/anaconda3/lib/python3.6/site-packages/sklearn/metrics/classification.py:1137: UndefinedMetricWarning: Recall is ill-defined and being set to 0.0 due to no true samples.\n",
      "  'recall', 'true', average, warn_for)\n"
     ]
    },
    {
     "name": "stdout",
     "output_type": "stream",
     "text": [
      "recall @4 : 0.598\n",
      "recall @8 : 0.328\n",
      "recall @16 : 0.172\n",
      "recall @32 : 0.141\n",
      "\n",
      "\n",
      "recall @4 : 0.496\n",
      "recall @8 : 0.269\n",
      "recall @16 : 0.142\n",
      "recall @32 : 0.116\n"
     ]
    }
   ],
   "source": [
    "print( 'recall @4 : %0.3f' % recall_at_k(y_true_binarized, y_pred_topk, user_ids, 4))\n",
    "print( 'recall @8 : %0.3f' % recall_at_k(y_true_binarized, y_pred_topk, user_ids, 8))\n",
    "print( 'recall @16 : %0.3f' % recall_at_k(y_true_binarized, y_pred_topk, user_ids, 16))\n",
    "print( 'recall @32 : %0.3f' % recall_at_k(y_true_binarized, y_pred_topk, user_ids, 32))\n",
    "\n",
    "print( '\\n\\nrecall @4 : %0.3f' % recall_at_k(y_true_binarized, y_pred_topk_genre, user_ids, 4, tol=3))\n",
    "print( 'recall @8 : %0.3f' % recall_at_k(y_true_binarized, y_pred_topk_genre, user_ids, 8, tol=3))\n",
    "print( 'recall @16 : %0.3f' % recall_at_k(y_true_binarized, y_pred_topk_genre, user_ids, 16, tol=3))\n",
    "print( 'recall @32 : %0.3f' % recall_at_k(y_true_binarized, y_pred_topk_genre, user_ids, 32, tol=3))"
   ]
  },
  {
   "cell_type": "code",
   "execution_count": 211,
   "metadata": {},
   "outputs": [],
   "source": [
    "weight = 1.5\n",
    "threshold = 3. / weight\n",
    "\n",
    "user_prediction_topk_genre = user_prediction_topk.copy()\n",
    "user_genre_coords = np.argwhere( user_prediction_topk_genre > threshold)\n",
    "\n",
    "for c in user_genre_coords:\n",
    "    x, y = c[0], c[1]\n",
    "    rating_i = user_prediction_topk_genre[x][y]\n",
    "\n",
    "    # Get book id from the book_idx to link us to the df_books db genre for this rating entry\n",
    "    ratings_book_id = df_ratings_cut.loc[df_ratings_cut['book_idx'] == int(y)]['book_id'].values[0]\n",
    "    genre_xy = df_books.loc[df_books['book_id'] == ratings_book_id]['genre'].values[0]\n",
    "    title_xy = df_books.loc[df_books['book_id'] == ratings_book_id]['title'].values[0]\n",
    "\n",
    "    if genre_xy not in top_3_genres_names_per_user[x]:\n",
    "        user_prediction_topk_genre[x][y] *= weight\n",
    "        if x == N_USERS - 2 and user_prediction_topk_genre[x][y] > 4:\n",
    "            print (y,genre_xy, title_xy, ratings_book_id, user_prediction_topk_genre[x][y])"
   ]
  },
  {
   "cell_type": "code",
   "execution_count": 213,
   "metadata": {},
   "outputs": [
    {
     "name": "stdout",
     "output_type": "stream",
     "text": [
      "[ 250  537  408 ... 4593 4594 7336]\n",
      "Top recommendations for you:\n",
      "Predicting rating 1.35 for book \"The Cat in the Hat\", genre: \"kids\"\n",
      "Predicting rating 0.38 for book \"Midnight in the Garden of Good and Evil\", genre: \"mystery\"\n",
      "Predicting rating 0.48 for book \"Fried Green Tomatoes at the Whistle Stop Cafe\", genre: \"lgbt\"\n",
      "Predicting rating 0.96 for book \"The Cider House Rules\", genre: \"default\"\n",
      "Predicting rating 1.07 for book \"The Clan of the Cave Bear (Earth's Children, #1)\", genre: \"romance\"\n",
      "Predicting rating 1.64 for book \"Oh, The Places You'll Go!\", genre: \"kids\"\n",
      "Predicting rating 0.65 for book \"The Shipping News\", genre: \"contemporary\"\n",
      "Predicting rating 0.94 for book \"Death of a Salesman\", genre: \"plays\"\n",
      "\n",
      "Original ratings provided:\n",
      "['fantasy', 'classic', 'romance']\n"
     ]
    }
   ],
   "source": [
    "# MAKE SURE INDEXING IS RIGHT HERE**g\n",
    "# Sort first user's predictions from highest to lowest\n",
    "user_i = -1\n",
    "pred_idxs_sorted = np.argsort(user_prediction_topk_genre[user_i] )\n",
    "pred_idxs_sorted = pred_idxs_sorted[::-1]\n",
    "print(pred_idxs_sorted)\n",
    "\n",
    "print( \"Top recommendations for you:\")\n",
    "for i in range(8):\n",
    "    \n",
    "    ratings_book_idx = int(pred_idxs_sorted[i])\n",
    "    df_temp = df_ratings_cut.query('book_idx == %d' % ratings_book_idx)\n",
    "    book_id = df_temp.book_id.values[0]    \n",
    "    \n",
    "    new_book = df_books.query('book_id == %d'%book_id)    \n",
    "    genre_i = new_book['genre'].values[0]\n",
    "\n",
    "    print('Predicting rating %0.2f for book \"%s\", genre: \"%s\"' % \\\n",
    "    (user_prediction_0[pred_idxs_sorted[i]],new_book['title'].values[0],new_book['genre'].values[0]))\n",
    "      \n",
    "j = 0\n",
    "print (\"\\nOriginal ratings provided:\")\n",
    "print( top_3_genres_names_per_user[-2])\n",
    "# for i in range(len(ratings_mat[user_i])):  \n",
    "#     #print(i,user_i, sum(ratings_mat[user_i]))\n",
    "#     if ratings_mat[user_i][i] > 0:\n",
    "#         j += 1\n",
    "#         df_temp = df_ratings_cut.query('book_idx == %d' % i)\n",
    "#         book_id = df_temp.book_id.values[0]    \n",
    "#         new_book_2 = df_books.query('book_id == %d' % book_id)\n",
    "#         print ('Rated %d for \"%s\", genre: \"%s\"' % (ratings_mat[user_i][i],new_book_2['title'].values[0],new_book_2['genre'].values[0]))\n",
    "    \n",
    "#     if j > 5:\n",
    "#         break"
   ]
  },
  {
   "cell_type": "code",
   "execution_count": 162,
   "metadata": {},
   "outputs": [
    {
     "name": "stdout",
     "output_type": "stream",
     "text": [
      "2.2113821138211383\n",
      "3.19\n"
     ]
    }
   ],
   "source": [
    "print(2.72 / 1.23)\n",
    "print(2.2*1.45)\n"
   ]
  },
  {
   "cell_type": "code",
   "execution_count": null,
   "metadata": {},
   "outputs": [],
   "source": []
  },
  {
   "cell_type": "code",
   "execution_count": null,
   "metadata": {},
   "outputs": [],
   "source": []
  },
  {
   "cell_type": "code",
   "execution_count": null,
   "metadata": {},
   "outputs": [],
   "source": []
  },
  {
   "cell_type": "code",
   "execution_count": null,
   "metadata": {},
   "outputs": [],
   "source": [
    "import requests\n",
    "CLIENT_ID = 'qc6JdYnnj3G1fpQSsp4n1w'\n",
    "CLIENT_SECRET = 'zD8IroPsQVDvco4V2u9h6hMgV1F3lsIO6FxKiq9eU'"
   ]
  },
  {
   "cell_type": "code",
   "execution_count": null,
   "metadata": {},
   "outputs": [],
   "source": [
    "multi_r = requests.get('https://api.foursquare.com/v2/venues/search?client_id=CLIENT_ID&client_secret=CLIENT_SECRET')\n"
   ]
  }
 ],
 "metadata": {
  "kernelspec": {
   "display_name": "Python 3",
   "language": "python",
   "name": "python3"
  },
  "language_info": {
   "codemirror_mode": {
    "name": "ipython",
    "version": 3
   },
   "file_extension": ".py",
   "mimetype": "text/x-python",
   "name": "python",
   "nbconvert_exporter": "python",
   "pygments_lexer": "ipython3",
   "version": "3.6.4"
  }
 },
 "nbformat": 4,
 "nbformat_minor": 2
}
